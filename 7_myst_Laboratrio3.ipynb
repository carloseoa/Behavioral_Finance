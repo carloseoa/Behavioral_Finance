{
 "cells": [
  {
   "cell_type": "markdown",
   "metadata": {},
   "source": [
    "<img style=\"float: right; margin: 0px 0px 15px 15px;\" src=\"https://upload.wikimedia.org/wikipedia/commons/d/db/Logo_ITESO_normal.jpg\" width=\"150px\" height=\"90px\" />\n",
    "\n",
    "## Microestructuras y sistemas de trading\n",
    "\n",
    "### Laboratorio 1. Administración Pasiva vs Administración Activa.\n",
    "\n",
    ">##### Carlos Ochoa\n",
    ">##### Diego Velasco\n",
    ">##### Oscar Villa"
   ]
  },
  {
   "cell_type": "markdown",
   "metadata": {},
   "source": [
    "### Objetivo:\n",
    "\n",
    "Para la resolución de este laboratorio, se implementará una función que pueda determinar que tanto incurre un trader en un sesgo cognitivo, llamado aversión a la pérdida, descubierto y desarrollado por Daniel Kahneman y Amos Tversky en su famosa investigación del \"Prospect theory\".\n",
    "\n",
    "La aversión a a pérdida  "
   ]
  }
 ],
 "metadata": {
  "kernelspec": {
   "display_name": "Python 3",
   "language": "python",
   "name": "python3"
  },
  "language_info": {
   "codemirror_mode": {
    "name": "ipython",
    "version": 3
   },
   "file_extension": ".py",
   "mimetype": "text/x-python",
   "name": "python",
   "nbconvert_exporter": "python",
   "pygments_lexer": "ipython3",
   "version": "3.7.0"
  }
 },
 "nbformat": 4,
 "nbformat_minor": 2
}
